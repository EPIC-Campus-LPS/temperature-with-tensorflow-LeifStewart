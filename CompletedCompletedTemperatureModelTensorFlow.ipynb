{
  "cells": [
    {
      "cell_type": "markdown",
      "metadata": {
        "id": "xBm1YJxHbUJU"
      },
      "source": [
        "# Lab 2.3: Temperature Conversion in TensorFlow\n",
        "\n",
        "## Objective\n",
        "- Install and learn the basics of the `tensorflow` library.\n",
        "- Train a neural network model to output temperature in Fahrenheit given a temperature in Celsius. \n",
        "- Compare and contrast the results of training multiple models with differnet parameters. \n",
        "\n",
        "## Rubric\n",
        "- 6 pts - Contains all required components and uses professional language and commenting\n",
        "- 5 pts - Contains all required components, but uses unprofessional language, commenting, etc. \n",
        "- 4 pts - Contains some, but not all, of the required components\n",
        "- 3 pts - Did not submit\n",
        "\n",
        "\n",
        "## What is a Neural Network?\n",
        "\n",
        "A **neural network** is a type of machine learning model that's designed to work a bit like the human brain — it processes information by passing it through layers of simple units called **nodes**, which are connected by **weights**.\n",
        "\n",
        "<img src=\"neuralnet.png\" width=\"300\">\n",
        "\n",
        "We will talk about neural networks that have three layers:\n",
        "- **Input Layer** – Takes in the raw data (like pixels of an image or numbers in a spreadsheet).\n",
        "- **Hidden Layers** – These are intermediate layers where most of the computation happens. Nodes in these layers apply weights, add a bias, and pass the result through an activation function.\n",
        "- **Output Layer** – Gives the final result (e.g., classifying an image as a cat or dog).\n",
        "\n",
        "Each time a data point enters the neural network, each node's weights and biases are updated based on the result. Over time, the weights and biases are trained to produce the correct response. \n",
        "\n",
        "\n",
        "## Creating a Neural Network\n",
        "\n",
        "\n",
        "In this lab, you will create a **neural network** to calculate the temperature in Fahrenheit, given the corresponding Celsius. We know the formula to find Fahrenheit is:\n",
        "$$ °F = 1.8 \\times °C + 32 $$\n",
        "\n",
        "But we will be working a neural network instead. The purpose of the model is to have the computer \"intuit\" the formula by transforming the input and comparing it to the expected output. \n",
        "\n",
        "\n",
        "## Install TensorFlow\n",
        "\n",
        "Using your terminal install `tensorflow` with \n",
        "\n",
        "```\n",
        "pip install tensorflow\n",
        "```\n",
        "or\n",
        "```\n",
        "sudo apt install python3-tensorflow\n",
        "```\n"
      ]
    },
    {
      "cell_type": "markdown",
      "metadata": {
        "id": "zn_kcb3SYCEs"
      },
      "source": [
        "## Import TensorFlow and Pandas\n",
        "\n",
        "The first step in your program is to import the `tensorflow` into Python. Typically, we `import tensorflow as tf` for brevity. Import `pandas` as well."
      ]
    },
    {
      "cell_type": "code",
      "execution_count": 132,
      "metadata": {
        "id": "zGco5QF2L9ZJ"
      },
      "outputs": [],
      "source": [
        "import tensorflow as tf2\n",
        "import pandas as pd\n",
        "import matplotlib.pyplot"
      ]
    },
    {
      "cell_type": "markdown",
      "metadata": {
        "id": "EA-EKz6YMgFo"
      },
      "source": [
        "## Set Up Training Data\n",
        "\n",
        "Next, we need to create two variables for the input and output data to use to train the model.\n",
        "\n",
        "Write a program to convert Celsius temperatures into Fahrenheit. Then create new dataframe with two columns(`celsius` and `fahrenheit`) with 5 data points each.\n",
        "\n",
        "Then, save your `celsius` column in a new Dataframe `X` and your `fahrenheit` as a Series `y`. This should be exactly the same as how you created `X` and `y` in your Automobile Model Lab. "
      ]
    },
    {
      "cell_type": "code",
      "execution_count": null,
      "metadata": {
        "id": "UTcZHsX5M4QN"
      },
      "outputs": [
        {
          "data": {
            "text/html": [
              "<div>\n",
              "<style scoped>\n",
              "    .dataframe tbody tr th:only-of-type {\n",
              "        vertical-align: middle;\n",
              "    }\n",
              "\n",
              "    .dataframe tbody tr th {\n",
              "        vertical-align: top;\n",
              "    }\n",
              "\n",
              "    .dataframe thead th {\n",
              "        text-align: right;\n",
              "    }\n",
              "</style>\n",
              "<table border=\"1\" class=\"dataframe\">\n",
              "  <thead>\n",
              "    <tr style=\"text-align: right;\">\n",
              "      <th></th>\n",
              "      <th>temp_c</th>\n",
              "      <th>temp_f</th>\n",
              "    </tr>\n",
              "  </thead>\n",
              "  <tbody>\n",
              "    <tr>\n",
              "      <th>0</th>\n",
              "      <td>21.7</td>\n",
              "      <td>71.1</td>\n",
              "    </tr>\n",
              "    <tr>\n",
              "      <th>1</th>\n",
              "      <td>21.3</td>\n",
              "      <td>70.3</td>\n",
              "    </tr>\n",
              "    <tr>\n",
              "      <th>2</th>\n",
              "      <td>21.7</td>\n",
              "      <td>71.1</td>\n",
              "    </tr>\n",
              "    <tr>\n",
              "      <th>3</th>\n",
              "      <td>21.9</td>\n",
              "      <td>71.4</td>\n",
              "    </tr>\n",
              "    <tr>\n",
              "      <th>4</th>\n",
              "      <td>22.1</td>\n",
              "      <td>71.8</td>\n",
              "    </tr>\n",
              "    <tr>\n",
              "      <th>...</th>\n",
              "      <td>...</td>\n",
              "      <td>...</td>\n",
              "    </tr>\n",
              "    <tr>\n",
              "      <th>95</th>\n",
              "      <td>20.5</td>\n",
              "      <td>68.9</td>\n",
              "    </tr>\n",
              "    <tr>\n",
              "      <th>96</th>\n",
              "      <td>20.4</td>\n",
              "      <td>68.7</td>\n",
              "    </tr>\n",
              "    <tr>\n",
              "      <th>97</th>\n",
              "      <td>20.4</td>\n",
              "      <td>68.7</td>\n",
              "    </tr>\n",
              "    <tr>\n",
              "      <th>98</th>\n",
              "      <td>20.3</td>\n",
              "      <td>68.5</td>\n",
              "    </tr>\n",
              "    <tr>\n",
              "      <th>99</th>\n",
              "      <td>20.3</td>\n",
              "      <td>68.5</td>\n",
              "    </tr>\n",
              "  </tbody>\n",
              "</table>\n",
              "<p>100 rows × 2 columns</p>\n",
              "</div>"
            ],
            "text/plain": [
              "    temp_c  temp_f\n",
              "0     21.7    71.1\n",
              "1     21.3    70.3\n",
              "2     21.7    71.1\n",
              "3     21.9    71.4\n",
              "4     22.1    71.8\n",
              "..     ...     ...\n",
              "95    20.5    68.9\n",
              "96    20.4    68.7\n",
              "97    20.4    68.7\n",
              "98    20.3    68.5\n",
              "99    20.3    68.5\n",
              "\n",
              "[100 rows x 2 columns]"
            ]
          },
          "execution_count": 133,
          "metadata": {},
          "output_type": "execute_result"
        }
      ],
      "source": [
        "df=pd.read_csv(\"weather.csv\")\n",
        "del df[\"datetime\"]\n",
        "del df[\"humidity\"]\n",
        "df2=df.head(100)\n",
        "df=df.head(5)\n",
        "df2\n",
        "# y=pd.Series([-148,-58,32,122,212])\n",
        "# x=pd.DataFrame([])"
      ]
    },
    {
      "cell_type": "markdown",
      "metadata": {
        "id": "VflzfXORN7CD"
      },
      "source": [
        "##  Creating the TensorFlow Model\n",
        "\n",
        "The **neural network** we will use is limited to one input (Celsius temperature) and one output (Fahrenheit temperature), but the number of hidden layers and nodes can be altered. The more complex the model is, the more nodes and layers you will want to use. Since we know that the temperature model is very simple and can be modeled with just one node, let's start there.\n",
        "\n",
        "<img src=\"tempnn.jpeg\" width=\"300\">\n",
        "\n",
        "\n",
        "Create a model with a single input and one hidden node with `model = tf.keras.Sequential([tf.keras.layers.Dense(units=1, input_shape=[1])])`\n",
        "- The single input is expressed with the `input_shape=[1]` parameter\n",
        "- The single node is expressed with the `units=1` parameter"
      ]
    },
    {
      "cell_type": "code",
      "execution_count": 134,
      "metadata": {
        "id": "spVQRItgO3Rg"
      },
      "outputs": [
        {
          "name": "stderr",
          "output_type": "stream",
          "text": [
            "/home/leifstewart/Desktop/Data Sci/.venv/lib/python3.12/site-packages/keras/src/layers/core/dense.py:87: UserWarning: Do not pass an `input_shape`/`input_dim` argument to a layer. When using Sequential models, prefer using an `Input(shape)` object as the first layer in the model instead.\n",
            "  super().__init__(activity_regularizer=activity_regularizer, **kwargs)\n"
          ]
        }
      ],
      "source": [
        "model = tf2.keras.Sequential([tf2.keras.layers.Dense(units=1, input_shape=[1])])"
      ]
    },
    {
      "cell_type": "markdown",
      "metadata": {
        "id": "lxkZlnwzPW7x"
      },
      "source": [
        "## Compiling and Running the Model\n",
        "\n",
        "Next, you can compile and run the model. The compile command set the parameters for the model. \n",
        "\n",
        "`model.compile(loss=\"mean_squared_error\", optimizer=tf.keras.optimizers.Adam(0.1))`\n",
        "\n",
        "Just like all the other models we've built, the model is actually built and fitted to the data with the `model.fit()` command. Notice that the parameters of this command take the input, output, and number of **epochs**, along with the verbose command to specify how much to print to the screen.\n",
        "\n",
        "`history = model.fit(X, y, epochs=150, verbose=False)`\n",
        "\n",
        "- `X` - This is the model input values(in Celsius).\n",
        "- `y` - This is the model output values(in Fahrenheit).\n",
        "- `epochs=150` - The model will run through the data 150 times. After each pass, it will update the weights and bias values to fit the model better. An **epoch** in machine learning (especially in training neural networks) is one full pass through the entire training dataset.\n",
        "- `verbose=False` - This will suppress any output as the model builds. This command is optional, but makes the screen clear.\n",
        "\n",
        "\n",
        "This model output is assigned to the `history` variable. This will allow you to do some analysis on the fit of the model.\n",
        "\n",
        "### Run the code\n",
        "When you run this code, expect it to take a few seconds to execute as it is running through the data 150 times.\n"
      ]
    },
    {
      "cell_type": "code",
      "execution_count": 135,
      "metadata": {
        "id": "d8rR_tFoPh-j"
      },
      "outputs": [],
      "source": [
        "model.compile(loss=\"mean_squared_error\", optimizer=tf2.keras.optimizers.Adam(0.1))\n",
        "history = model.fit(df['temp_c'], df['temp_f'], epochs=150, verbose=False)"
      ]
    },
    {
      "cell_type": "markdown",
      "metadata": {
        "id": "V5Zg5U5bQhqR"
      },
      "source": [
        "## Viewing the Results\n",
        "\n",
        "Now that the model has run, you can use it to predict a value. Just like previous models, we can use the `model.predict()` command .\n",
        "\n",
        "Create a new Dataframe with 100 degrees so we can see what our model predicts. It should be close to 212 degrees Fahrenheit but will probably not be exact. Each time you fit the model, you may get different resuts."
      ]
    },
    {
      "cell_type": "code",
      "execution_count": 136,
      "metadata": {
        "id": "EIvICqc-QhSq"
      },
      "outputs": [
        {
          "name": "stdout",
          "output_type": "stream",
          "text": [
            "\u001b[1m4/4\u001b[0m \u001b[32m━━━━━━━━━━━━━━━━━━━━\u001b[0m\u001b[37m\u001b[0m \u001b[1m0s\u001b[0m 6ms/step \n"
          ]
        },
        {
          "data": {
            "text/plain": [
              "array([[222.64351],\n",
              "       [220.18697],\n",
              "       [222.64351],\n",
              "       [223.56471],\n",
              "       [224.793  ],\n",
              "       [224.793  ],\n",
              "       [222.64351],\n",
              "       [219.26575],\n",
              "       [217.42334],\n",
              "       [217.11627],\n",
              "       [217.42334],\n",
              "       [219.87988],\n",
              "       [222.64351],\n",
              "       [223.56471],\n",
              "       [224.793  ],\n",
              "       [222.95056],\n",
              "       [219.87988],\n",
              "       [218.03746],\n",
              "       [217.11627],\n",
              "       [216.50212],\n",
              "       [218.03746],\n",
              "       [220.80109],\n",
              "       [221.41522],\n",
              "       [221.41522],\n",
              "       [219.26575],\n",
              "       [217.11627],\n",
              "       [215.88799],\n",
              "       [214.65971],\n",
              "       [213.7385 ],\n",
              "       [213.7385 ],\n",
              "       [213.7385 ],\n",
              "       [217.42334],\n",
              "       [219.26575],\n",
              "       [220.18697],\n",
              "       [222.02937],\n",
              "       [222.64351],\n",
              "       [223.56471],\n",
              "       [224.17885],\n",
              "       [224.793  ],\n",
              "       [224.793  ],\n",
              "       [225.40714],\n",
              "       [224.793  ],\n",
              "       [224.17885],\n",
              "       [223.56471],\n",
              "       [222.95056],\n",
              "       [222.64351],\n",
              "       [221.41522],\n",
              "       [221.41522],\n",
              "       [220.80109],\n",
              "       [220.80109],\n",
              "       [220.80109],\n",
              "       [220.18697],\n",
              "       [219.87988],\n",
              "       [219.26575],\n",
              "       [219.26575],\n",
              "       [219.26575],\n",
              "       [219.26575],\n",
              "       [219.26575],\n",
              "       [219.26575],\n",
              "       [219.26575],\n",
              "       [218.65161],\n",
              "       [218.65161],\n",
              "       [218.65161],\n",
              "       [218.65161],\n",
              "       [218.03746],\n",
              "       [218.03746],\n",
              "       [218.03746],\n",
              "       [218.03746],\n",
              "       [218.03746],\n",
              "       [217.42334],\n",
              "       [217.42334],\n",
              "       [217.42334],\n",
              "       [217.42334],\n",
              "       [217.11627],\n",
              "       [217.11627],\n",
              "       [217.11627],\n",
              "       [217.11627],\n",
              "       [217.11627],\n",
              "       [216.50212],\n",
              "       [216.50212],\n",
              "       [216.50212],\n",
              "       [216.50212],\n",
              "       [216.50212],\n",
              "       [216.50212],\n",
              "       [216.50212],\n",
              "       [215.88799],\n",
              "       [215.88799],\n",
              "       [215.88799],\n",
              "       [215.88799],\n",
              "       [215.88799],\n",
              "       [215.88799],\n",
              "       [215.88799],\n",
              "       [215.88799],\n",
              "       [215.88799],\n",
              "       [215.88799],\n",
              "       [215.88799],\n",
              "       [215.27383],\n",
              "       [215.27383],\n",
              "       [214.65971],\n",
              "       [214.65971]], dtype=float32)"
            ]
          },
          "execution_count": 136,
          "metadata": {},
          "output_type": "execute_result"
        }
      ],
      "source": [
        "model.predict(df2['temp_f'])"
      ]
    },
    {
      "cell_type": "markdown",
      "metadata": {},
      "source": [
        "### View the Weight and Bias\n",
        "\n",
        "Use the following lines to view the model's weight and bias for the hidden node. Compare the weight and bias of your model to that of the real equation.\n",
        "\n",
        "$$  °F = WEIGHT × °C + BIAS $$\n",
        "$$  °F = 1.8 × °C + 32 $$\n",
        "\n",
        "```\n",
        "print (\"Model variables weights: \" + str(model.layers[0].get_weights()[0]))\n",
        "print (\"Model bias: \" + str(model.layers[0].get_weights()[1]))\n",
        "```"
      ]
    },
    {
      "cell_type": "code",
      "execution_count": 137,
      "metadata": {},
      "outputs": [
        {
          "name": "stdout",
          "output_type": "stream",
          "text": [
            "Model variables weights: [[3.0706913]]\n",
            "Model bias: [4.3173485]\n"
          ]
        }
      ],
      "source": [
        "print (\"Model variables weights: \" + str(model.layers[0].get_weights()[0]))\n",
        "print (\"Model bias: \" + str(model.layers[0].get_weights()[1]))"
      ]
    },
    {
      "cell_type": "markdown",
      "metadata": {
        "id": "M-QK8QrySTUM"
      },
      "source": [
        "\n",
        "## Model Metrics\n",
        "Let's look at some more metrics about our model. \n",
        "\n",
        "Each time an epoch runs, it assigns a value for the weight and bias for each node. The model uses these values with the input value (temperature in celsius) to predict an output value (temperature in fahrenheit). The **loss value** is the difference between the predicted output and the actual output.\n",
        "\n",
        "## Import matplotlib and Plot Loss data\n",
        "\n",
        "Run the code below to see a measure of the loss value. Notice how the loss gets smaller over time. This represents the model fitting a little better with each pass.\n",
        "\n",
        "```\n",
        "import matplotlib.pyplot as plt\n",
        "\n",
        "plt.xlabel('Epoch Number')\n",
        "plt.ylabel(\"Loss Magnitude\")\n",
        "plt.ylim(0,2000)\n",
        "plt.grid()\n",
        "plt.plot(history.history['loss'])\n",
        "plt.show()\n",
        "```"
      ]
    },
    {
      "cell_type": "code",
      "execution_count": 138,
      "metadata": {
        "id": "UO_LIFEHSS4p"
      },
      "outputs": [
        {
          "data": {
            "image/png": "[encoded data removed]",
            "text/plain": [
              "<Figure size 640x480 with 1 Axes>"
            ]
          },
          "metadata": {},
          "output_type": "display_data"
        }
      ],
      "source": [
        "import matplotlib.pyplot as plt\n",
        "\n",
        "plt.xlabel('Epoch Number')\n",
        "plt.ylabel(\"Loss Magnitude\")\n",
        "plt.ylim(0,2000)\n",
        "plt.grid()\n",
        "plt.plot(history.history['loss'])\n",
        "plt.show()"
      ]
    },
    {
      "cell_type": "markdown",
      "metadata": {
        "id": "e5D7uk_vXe-b"
      },
      "source": [
        "## Modifying the Model Parameters\n",
        "\n",
        "The two models below contain the same input and output values as above, but you can make some edits to the model parameters to see the impact.\n",
        "\n",
        "Try each of the following and note the results. **Show the prediction for 100 degrees and a loss plot for each one.**\n",
        "\n",
        "1. Change the number of epochs that you run from 150 to 300.\n",
        "2. Keep the epochs at 150. Use your weather data from the Weather Station Lab.\n",
        "\n",
        "For each of these, you will want to compare two things:\n",
        "\n",
        "- **The loss graph:** Does the tail flatten out? What is the estimated loss in the end?\n",
        "\n",
        "\n",
        "- **Run time:** Notice the time that it takes to run each. Nearly all of the time is calculating the model, so you can compare this to the original model.fit code above.\n",
        "\n",
        "\n",
        "1. Change the number of epochs that you run from 150 to 300."
      ]
    },
    {
      "cell_type": "code",
      "execution_count": 139,
      "metadata": {
        "id": "oDesex5QW4Vw"
      },
      "outputs": [
        {
          "name": "stdout",
          "output_type": "stream",
          "text": [
            "\u001b[1m4/4\u001b[0m \u001b[32m━━━━━━━━━━━━━━━━━━━━\u001b[0m\u001b[37m\u001b[0m \u001b[1m0s\u001b[0m 5ms/step \n"
          ]
        },
        {
          "data": {
            "image/png": "[encoded data removed]",
            "text/plain": [
              "<Figure size 640x480 with 1 Axes>"
            ]
          },
          "metadata": {},
          "output_type": "display_data"
        }
      ],
      "source": [
        "model = tf2.keras.Sequential([tf2.keras.layers.Dense(units=1, input_shape=[1])])\n",
        "model.compile(loss=\"mean_squared_error\", optimizer=tf2.keras.optimizers.Adam(0.1))\n",
        "history = model.fit(df['temp_c'], df['temp_f'], epochs=300, verbose=False)\n",
        "model.predict(df2['temp_f'])\n",
        "\n",
        "plt.xlabel('Epoch Number')\n",
        "plt.ylabel(\"Loss Magnitude\")\n",
        "plt.ylim(0,2000)\n",
        "plt.grid()\n",
        "plt.plot(history.history['loss'])\n",
        "plt.show()"
      ]
    },
    {
      "cell_type": "markdown",
      "metadata": {},
      "source": [
        "2. Keep the epochs at 150. Use your weather data from the Weather Station Lab."
      ]
    },
    {
      "cell_type": "code",
      "execution_count": 142,
      "metadata": {},
      "outputs": [
        {
          "name": "stderr",
          "output_type": "stream",
          "text": [
            "/home/leifstewart/Desktop/Data Sci/.venv/lib/python3.12/site-packages/keras/src/layers/core/dense.py:87: UserWarning: Do not pass an `input_shape`/`input_dim` argument to a layer. When using Sequential models, prefer using an `Input(shape)` object as the first layer in the model instead.\n",
            "  super().__init__(activity_regularizer=activity_regularizer, **kwargs)\n"
          ]
        },
        {
          "name": "stdout",
          "output_type": "stream",
          "text": [
            "\u001b[1m4/4\u001b[0m \u001b[32m━━━━━━━━━━━━━━━━━━━━\u001b[0m\u001b[37m\u001b[0m \u001b[1m0s\u001b[0m 7ms/step \n"
          ]
        },
        {
          "data": {
            "image/png": "[encoded data removed]",
            "text/plain": [
              "<Figure size 640x480 with 1 Axes>"
            ]
          },
          "metadata": {},
          "output_type": "display_data"
        }
      ],
      "source": [
        "df=pd.read_csv(\"weatherstationdata.csv\")\n",
        "del df[\"datetime\"]\n",
        "del df[\"humidity\"]\n",
        "df2=df.head(100)\n",
        "df=df.head(5)\n",
        "model = tf2.keras.Sequential([tf2.keras.layers.Dense(units=1, input_shape=[1])])\n",
        "model.compile(loss=\"mean_squared_error\", optimizer=tf2.keras.optimizers.Adam(0.1))\n",
        "history = model.fit(df['temp_c'], df['temp_f'], epochs=150, verbose=False)\n",
        "model.predict(df2['temp_f'])\n",
        "\n",
        "plt.xlabel('Epoch Number')\n",
        "plt.ylabel(\"Loss Magnitude\")\n",
        "plt.ylim(0,2000)\n",
        "plt.grid()\n",
        "plt.plot(history.history['loss'])\n",
        "plt.show()"
      ]
    },
    {
      "cell_type": "markdown",
      "metadata": {
        "id": "2I6oc2SF3Gf1"
      },
      "source": [
        "##  Modifying the Model\n",
        "\n",
        "For this problem, we said that the model was pretty simple and one node in one layer was enough to generate good results.\n",
        "\n",
        "What if we modified this to have 2 dense layers, each with 3 nodes?\n",
        "\n",
        "The model layers would be something like this:\n",
        "```\n",
        "tf.keras.layers.Dense(units=3, input_shape=[1]),\n",
        "tf.keras.layers.Dense(units=3),\n",
        "tf.keras.layers.Dense(units=1)\n",
        "```\n",
        "\n",
        "Notice the first and second layers each have `units=3`. This represents the 3 nodes in the dense layers. The last layer still only has `units=1` because the final output needs to come down to one number. You can also see that the input_shape for the first layer is still `[1]` and the input hasn't changed.\n",
        "\n",
        "Go ahead and run this model below."
      ]
    },
    {
      "cell_type": "code",
      "execution_count": 145,
      "metadata": {
        "id": "oojKCe-j4IzC"
      },
      "outputs": [
        {
          "name": "stderr",
          "output_type": "stream",
          "text": [
            "/home/leifstewart/Desktop/Data Sci/.venv/lib/python3.12/site-packages/keras/src/layers/core/dense.py:87: UserWarning: Do not pass an `input_shape`/`input_dim` argument to a layer. When using Sequential models, prefer using an `Input(shape)` object as the first layer in the model instead.\n",
            "  super().__init__(activity_regularizer=activity_regularizer, **kwargs)\n"
          ]
        },
        {
          "name": "stdout",
          "output_type": "stream",
          "text": [
            "\u001b[1m4/4\u001b[0m \u001b[32m━━━━━━━━━━━━━━━━━━━━\u001b[0m\u001b[37m\u001b[0m \u001b[1m0s\u001b[0m 5ms/step \n"
          ]
        },
        {
          "data": {
            "image/png": "[encoded data removed]",
            "text/plain": [
              "<Figure size 640x480 with 1 Axes>"
            ]
          },
          "metadata": {},
          "output_type": "display_data"
        }
      ],
      "source": [
        "model = tf2.keras.Sequential([tf2.keras.layers.Dense(units=1, input_shape=[1])])\n",
        "tf2.keras.layers.Dense(units=3, input_shape=[1]),\n",
        "tf2.keras.layers.Dense(units=3),\n",
        "tf2.keras.layers.Dense(units=1)\n",
        "model.compile(loss=\"mean_squared_error\", optimizer=tf2.keras.optimizers.Adam(0.1))\n",
        "history = model.fit(df['temp_c'], df['temp_f'], epochs=300, verbose=False)\n",
        "model.predict(df2['temp_f'])\n",
        "\n",
        "plt.xlabel('Epoch Number')\n",
        "plt.ylabel(\"Loss Magnitude\")\n",
        "plt.ylim(0,2000)\n",
        "plt.grid()\n",
        "plt.plot(history.history['loss'])\n",
        "plt.show()"
      ]
    },
    {
      "cell_type": "markdown",
      "metadata": {
        "id": "qIRGFz8m4doD"
      },
      "source": [
        "Notice that the model predicted about the same, but with a lot more complexity. When creating models, you want to keep your model as simple as possible, and that will be determined by your dataset."
      ]
    }
  ],
  "metadata": {
    "colab": {
      "provenance": []
    },
    "kernelspec": {
      "display_name": ".venv",
      "language": "python",
      "name": "python3"
    },
    "language_info": {
      "codemirror_mode": {
        "name": "ipython",
        "version": 3
      },
      "file_extension": ".py",
      "mimetype": "text/x-python",
      "name": "python",
      "nbconvert_exporter": "python",
      "pygments_lexer": "ipython3",
      "version": "3.12.3"
    }
  },
  "nbformat": 4,
  "nbformat_minor": 0
}
